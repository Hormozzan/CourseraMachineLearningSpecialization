{
 "cells": [
  {
   "cell_type": "markdown",
   "metadata": {},
   "source": [
    "# Deep Q-Learning - Lunar Lander\n",
    "\n",
    "In this assignment, you will train an agent to land a lunar lander safely on a landing pad on the surface of the moon.\n",
    "\n",
    "\n",
    "# Outline\n",
    "- [ 1 - Import Packages <img align=\"Right\" src=\"./images/lunar_lander.gif\" width = 60% >](#1)\n",
    "- [ 2 - Hyperparameters](#2)\n",
    "- [ 3 - The Lunar Lander Environment](#3)\n",
    "  - [ 3.1 Action Space](#3.1)\n",
    "  - [ 3.2 Observation Space](#3.2)\n",
    "  - [ 3.3 Rewards](#3.3)\n",
    "  - [ 3.4 Episode Termination](#3.4)\n",
    "- [ 4 - Load the Environment](#4)\n",
    "- [ 5 - Interacting with the Gym Environment](#5)\n",
    "    - [ 5.1 Exploring the Environment's Dynamics](#5.1)\n",
    "- [ 6 - Deep Q-Learning](#6)\n",
    "  - [ 6.1 Target Network](#6.1)\n",
    "    - [ Exercise 1](#ex01)\n",
    "  - [ 6.2 Experience Replay](#6.2)\n",
    "- [ 7 - Deep Q-Learning Algorithm with Experience Replay](#7)\n",
    "  - [ Exercise 2](#ex02)\n",
    "- [ 8 - Update the Network Weights](#8)\n",
    "- [ 9 - Train the Agent](#9)\n",
    "- [ 10 - See the Trained Agent In Action](#10)\n",
    "- [ 11 - Congratulations!](#11)\n",
    "- [ 12 - References](#12)\n"
   ]
  },
  {
   "cell_type": "markdown",
   "metadata": {},
   "source": [
    "<a name=\"1\"></a>\n",
    "## 1 - Import Packages\n",
    "\n",
    "We'll make use of the following packages:\n",
    "- `numpy` is a package for scientific computing in python.\n",
    "- `deque` will be our data structure for our memory buffer.\n",
    "- `namedtuple` will be used to store the experience tuples.\n",
    "- The `gym` toolkit is a collection of environments that can be used to test reinforcement learning algorithms. We should note that in this notebook we are using `gym` version `0.24.0`.\n",
    "- `PIL.Image` and `pyvirtualdisplay` are needed to render the Lunar Lander environment.\n",
    "- We will use several modules from the `tensorflow.keras` framework for building deep learning models.\n",
    "- `utils` is a module that contains helper functions for this assignment. You do not need to modify the code in this file.\n",
    "\n",
    "Run the cell below to import all the necessary packages."
   ]
  },
  {
   "cell_type": "code",
   "execution_count": 1,
   "metadata": {
    "id": "KYbOPKRtfQOr"
   },
   "outputs": [],
   "source": [
    "import time\n",
    "from collections import deque, namedtuple\n",
    "\n",
    "import gym\n",
    "import numpy as np\n",
    "import PIL.Image\n",
    "import tensorflow as tf\n",
    "import utils\n",
    "\n",
    "from pyvirtualdisplay import Display\n",
    "from tensorflow.keras import Sequential\n",
    "from tensorflow.keras.layers import Dense, Input\n",
    "from tensorflow.keras.losses import MSE\n",
    "from tensorflow.keras.optimizers import Adam"
   ]
  },
  {
   "cell_type": "code",
   "execution_count": 2,
   "metadata": {},
   "outputs": [],
   "source": [
    "# Set up a virtual display to render the Lunar Lander environment.\n",
    "Display(visible=0, size=(840, 480)).start();\n",
    "\n",
    "# Set the random seed for TensorFlow.\n",
    "tf.random.set_seed(utils.SEED)"
   ]
  },
  {
   "cell_type": "markdown",
   "metadata": {},
   "source": [
    "<a name=\"2\"></a>\n",
    "## 2 - Hyperparameters\n",
    "\n",
    "Run the cell below to set the hyperparameters."
   ]
  },
  {
   "cell_type": "code",
   "execution_count": 3,
   "metadata": {},
   "outputs": [],
   "source": [
    "MEMORY_SIZE = 100_000     # size of memory buffer.\n",
    "GAMMA = 0.995             # discount factor.\n",
    "ALPHA = 1e-3              # learning rate.\n",
    "NUM_STEPS_FOR_UPDATE = 4  # perform a learning update every C time steps."
   ]
  },
  {
   "cell_type": "markdown",
   "metadata": {},
   "source": [
    "<a name=\"3\"></a>\n",
    "## 3 - The Lunar Lander Environment\n",
    "\n",
    "In this notebook we will be using [OpenAI's Gym Library](https://www.gymlibrary.dev/). The Gym library provides a wide variety of environments for reinforcement learning. To put it simply, an environment represents a problem or task to be solved. In this notebook, we will try to solve the Lunar Lander environment using reinforcement learning.\n",
    "\n",
    "The goal of the Lunar Lander environment is to land the lunar lander safely on the landing pad on the surface of the moon. The landing pad is designated by two flag poles and it is always at coordinates `(0,0)` but the lander is also allowed to land outside of the landing pad. The lander starts at the top center of the environment with a random initial force applied to its center of mass and has infinite fuel. The environment is considered solved if you get `200` points. \n",
    "\n",
    "<br>\n",
    "<br>\n",
    "<figure>\n",
    "  <img src = \"images/lunar_lander.gif\" width = 40%>\n",
    "      <figcaption style = \"text-align: center; font-style: italic\">Fig 1. Lunar Lander Environment.</figcaption>\n",
    "</figure>\n",
    "\n",
    "\n",
    "\n",
    "<a name=\"3.1\"></a>\n",
    "### 3.1 Action Space\n",
    "\n",
    "The agent has four discrete actions available:\n",
    "\n",
    "* Do nothing.\n",
    "* Fire right engine.\n",
    "* Fire main engine.\n",
    "* Fire left engine.\n",
    "\n",
    "Each action has a corresponding numerical value:\n",
    "\n",
    "```python\n",
    "Do nothing = 0\n",
    "Fire right engine = 1\n",
    "Fire main engine = 2\n",
    "Fire left engine = 3\n",
    "```\n",
    "\n",
    "<a name=\"3.2\"></a>\n",
    "### 3.2 Observation Space\n",
    "\n",
    "The agent's observation space consists of a state vector with 8 variables:\n",
    "\n",
    "* Its $(x,y)$ coordinates. The landing pad is always at coordinates $(0,0)$.\n",
    "* Its linear velocities $(\\dot x,\\dot y)$.\n",
    "* Its angle $\\theta$.\n",
    "* Its angular velocity $\\dot \\theta$.\n",
    "* Two booleans, $l$ and $r$, that represent whether each leg is in contact with the ground or not.\n",
    "\n",
    "<a name=\"3.3\"></a>\n",
    "### 3.3 Rewards\n",
    "\n",
    "The Lunar Lander environment has the following reward system:\n",
    "\n",
    "* Landing on the landing pad and coming to rest is about 100-140 points.\n",
    "* If the lander moves away from the landing pad, it loses reward. \n",
    "* If the lander crashes, it receives -100 points.\n",
    "* If the lander comes to rest, it receives +100 points.\n",
    "* Each leg with ground contact is +10 points.\n",
    "* Firing the main engine is -0.3 points each frame.\n",
    "* Firing the side engine is -0.03 points each frame.\n",
    "\n",
    "<a name=\"3.4\"></a>\n",
    "### 3.4 Episode Termination\n",
    "\n",
    "An episode ends (i.e the environment enters a terminal state) if:\n",
    "\n",
    "* The lunar lander crashes (i.e if the body of the lunar lander comes in contact with the surface of the moon).\n",
    "\n",
    "* The absolute value of the lander's $x$-coordinate is greater than 1 (i.e. it goes beyond the left or right border)\n",
    "\n",
    "You can check out the [Open AI Gym documentation](https://www.gymlibrary.dev/environments/box2d/lunar_lander/) for a full description of the environment. "
   ]
  },
  {
   "cell_type": "markdown",
   "metadata": {},
   "source": [
    "<a name=\"4\"></a>\n",
    "## 4 - Load the Environment\n",
    "\n",
    "We start by loading the `LunarLander-v2` environment from the `gym` library by using the `.make()` method. `LunarLander-v2` is the latest version of the Lunar Lander environment and you can read about its version history in the [Open AI Gym documentation](https://www.gymlibrary.dev/environments/box2d/lunar_lander/#version-history)."
   ]
  },
  {
   "cell_type": "code",
   "execution_count": 4,
   "metadata": {
    "id": "ILVMYKewfR0n"
   },
   "outputs": [],
   "source": [
    "env = gym.make('LunarLander-v2')"
   ]
  },
  {
   "cell_type": "markdown",
   "metadata": {},
   "source": [
    "Once we load the environment we use the `.reset()` method to reset the environment to the initial state. The lander starts at the top center of the environment and we can render the first frame of the environment by using the `.render()` method."
   ]
  },
  {
   "cell_type": "code",
   "execution_count": 5,
   "metadata": {},
   "outputs": [
    {
     "data": {
      "image/png": "[encoded data removed]",
      "text/plain": [
       "<PIL.Image.Image image mode=RGB size=600x400 at 0x7FA50C7FC4D0>"
      ]
     },
     "execution_count": 5,
     "metadata": {},
     "output_type": "execute_result"
    }
   ],
   "source": [
    "env.reset()\n",
    "PIL.Image.fromarray(env.render(mode='rgb_array'))"
   ]
  },
  {
   "cell_type": "markdown",
   "metadata": {},
   "source": [
    "In order to build our neural network later on we need to know the size of the state vector and the number of valid actions. We can get this information from our environment by using the `.observation_space.shape` and `action_space.n` methods, respectively."
   ]
  },
  {
   "cell_type": "code",
   "execution_count": 6,
   "metadata": {
    "id": "x3fdqdG4CUu2"
   },
   "outputs": [
    {
     "name": "stdout",
     "output_type": "stream",
     "text": [
      "State Shape: (8,)\n",
      "Number of actions: 4\n"
     ]
    }
   ],
   "source": [
    "state_size = env.observation_space.shape\n",
    "num_actions = env.action_space.n\n",
    "\n",
    "print('State Shape:', state_size)\n",
    "print('Number of actions:', num_actions)"
   ]
  },
  {
   "cell_type": "markdown",
   "metadata": {},
   "source": [
    "<a name=\"5\"></a>\n",
    "## 5 - Interacting with the Gym Environment\n",
    "\n",
    "The Gym library implements the standard “agent-environment loop” formalism:\n",
    "\n",
    "<br>\n",
    "<center>\n",
    "<video src = \"./videos/rl_formalism.m4v\" width=\"840\" height=\"480\" controls autoplay loop poster=\"./images/rl_formalism.png\"> </video>\n",
    "<figcaption style = \"text-align:center; font-style:italic\">Fig 2. Agent-environment Loop Formalism.</figcaption>\n",
    "</center>\n",
    "<br>\n",
    "\n",
    "In the standard “agent-environment loop” formalism, an agent interacts with the environment in discrete time steps $t=0,1,2,...$. At each time step $t$, the agent uses a policy $\\pi$ to select an action $A_t$ based on its observation of the environment's state $S_t$. The agent receives a numerical reward $R_t$ and on the next time step, moves to a new state $S_{t+1}$.\n",
    "\n",
    "<a name=\"5.1\"></a>\n",
    "### 5.1 Exploring the Environment's Dynamics\n",
    "\n",
    "In Open AI's Gym environments, we use the `.step()` method to run a single time step of the environment's dynamics. In the version of `gym` that we are using the `.step()` method accepts an action and returns four values:\n",
    "\n",
    "* `observation` (**object**): an environment-specific object representing your observation of the environment. In the Lunar Lander environment this corresponds to a numpy array containing the positions and velocities of the lander as described in section [3.2 Observation Space](#3.2).\n",
    "\n",
    "\n",
    "* `reward` (**float**): amount of reward returned as a result of taking the given action. In the Lunar Lander environment this corresponds to a float of type `numpy.float64` as described in section [3.3 Rewards](#3.3).\n",
    "\n",
    "\n",
    "* `done` (**boolean**): When done is `True`, it indicates the episode has terminated and it’s time to reset the environment. \n",
    "\n",
    "\n",
    "* `info` (**dictionary**): diagnostic information useful for debugging. We won't be using this variable in this notebook but it is shown here for completeness.\n",
    "\n",
    "To begin an episode, we need to reset the environment to an initial state. We do this by using the `.reset()` method. "
   ]
  },
  {
   "cell_type": "code",
   "execution_count": 7,
   "metadata": {},
   "outputs": [],
   "source": [
    "# Reset the environment and get the initial state.\n",
    "initial_state = env.reset()"
   ]
  },
  {
   "cell_type": "markdown",
   "metadata": {},
   "source": [
    "Once the environment is reset, the agent can start taking actions in the environment by using the `.step()` method. Note that the agent can only take one action per time step. \n",
    "\n",
    "In the cell below you can select different actions and see how the returned values change depending on the action taken. Remember that in this environment the agent has four discrete actions available and we specify them in code by using their corresponding numerical value:\n",
    "\n",
    "```python\n",
    "Do nothing = 0\n",
    "Fire right engine = 1\n",
    "Fire main engine = 2\n",
    "Fire left engine = 3\n",
    "```"
   ]
  },
  {
   "cell_type": "code",
   "execution_count": 12,
   "metadata": {},
   "outputs": [
    {
     "data": {
      "text/html": [
       "<table class=\"simpletable\">\n",
       "<tr>\n",
       "  <th>Initial State:</th>      <td>[0.002 1.422 0.194 0.506 -0.002 -0.044 0.000 0.000]</td>\n",
       "</tr>\n",
       "<tr>\n",
       "  <th>Action:</th>                                 <td>Do nothing</td>                     \n",
       "</tr>\n",
       "<tr>\n",
       "  <th>Next State:</th>         <td>[0.012 1.473 0.206 0.416 -0.010 -0.049 0.000 0.000]</td>\n",
       "</tr>\n",
       "<tr>\n",
       "  <th>Reward Received:</th>                           <td>1.218</td>                       \n",
       "</tr>\n",
       "<tr>\n",
       "  <th>Episode Terminated:</th>                        <td>False</td>                       \n",
       "</tr>\n",
       "</table>"
      ],
      "text/plain": [
       "<class 'statsmodels.iolib.table.SimpleTable'>"
      ]
     },
     "execution_count": 12,
     "metadata": {},
     "output_type": "execute_result"
    }
   ],
   "source": [
    "# Select an action.\n",
    "action = 0\n",
    "\n",
    "# Run a single time step of the environment's dynamics with the given action.\n",
    "next_state, reward, done, _ = env.step(action)\n",
    "\n",
    "# Display table with values. All values are displayed to 3 decimal places.\n",
    "utils.display_table(initial_state, action, next_state, reward, done)"
   ]
  },
  {
   "cell_type": "markdown",
   "metadata": {},
   "source": [
    "In practice, when we train the agent we use a loop to allow the agent to take many consecutive actions during an episode."
   ]
  },
  {
   "cell_type": "markdown",
   "metadata": {},
   "source": [
    "<a name=\"6\"></a>\n",
    "## 6 - Deep Q-Learning\n",
    "\n",
    "In cases where both the state and action space are discrete we can estimate the action-value function iteratively by using the Bellman equation:\n",
    "\n",
    "$$\n",
    "Q_{i+1}(s,a) = R + \\gamma \\max_{a'}Q_i(s',a')\n",
    "$$\n",
    "\n",
    "This iterative method converges to the optimal action-value function $Q^*(s,a)$ as $i\\to\\infty$. This means that the agent just needs to gradually explore the state-action space and keep updating the estimate of $Q(s,a)$ until it converges to the optimal action-value function $Q^*(s,a)$. However, in cases where the state space is continuous it becomes practically impossible to explore the entire state-action space. Consequently, this also makes it practically impossible to gradually estimate $Q(s,a)$ until it converges to $Q^*(s,a)$.\n",
    "\n",
    "In the Deep $Q$-Learning, we solve this problem by using a neural network to estimate the action-value function $Q(s,a)\\approx Q^*(s,a)$. We call this neural network a $Q$-Network and it can be trained by adjusting its weights at each iteration to minimize the mean-squared error in the Bellman equation.\n",
    "\n",
    "Unfortunately, using neural networks in reinforcement learning to estimate action-value functions has proven to be highly unstable. Luckily, there's a couple of techniques that can be employed to avoid instabilities. These techniques consist of using a ***Target Network*** and ***Experience Replay***. We will explore these two techniques in the following sections."
   ]
  },
  {
   "cell_type": "markdown",
   "metadata": {},
   "source": [
    "<a name=\"6.1\"></a>\n",
    "### 6.1 Target Network\n",
    "\n",
    "We can train the $Q$-Network by adjusting it's weights at each iteration to minimize the mean-squared error in the Bellman equation, where the target values are given by:\n",
    "\n",
    "$$\n",
    "y = R + \\gamma \\max_{a'}Q(s',a';w)\n",
    "$$\n",
    "\n",
    "where $w$ are the weights of the $Q$-Network. This means that we are adjusting the weights $w$ at each iteration to minimize the following error:\n",
    "\n",
    "$$\n",
    "\\overbrace{\\underbrace{R + \\gamma \\max_{a'}Q(s',a'; w)}_{\\rm {y~target}} - Q(s,a;w)}^{\\rm {Error}}\n",
    "$$\n",
    "\n",
    "Notice that this forms a problem because the $y$ target is changing on every iteration. Having a constantly moving target can lead to oscillations and instabilities. To avoid this, we can create\n",
    "a separate neural network for generating the $y$ targets. We call this separate neural network the **target $\\hat Q$-Network** and it will have the same architecture as the original $Q$-Network. By using the target $\\hat Q$-Network, the above error becomes:\n",
    "\n",
    "$$\n",
    "\\overbrace{\\underbrace{R + \\gamma \\max_{a'}\\hat{Q}(s',a'; w^-)}_{\\rm {y~target}} - Q(s,a;w)}^{\\rm {Error}}\n",
    "$$\n",
    "\n",
    "where $w^-$ and $w$ are the weights the target $\\hat Q$-Network and $Q$-Network, respectively.\n",
    "\n",
    "In practice, we will use the following algorithm: every $C$ time steps we will use the $\\hat Q$-Network to generate the $y$ targets and update the weights of the target $\\hat Q$-Network using the weights of the $Q$-Network. We will update the weights $w^-$ of the the target $\\hat Q$-Network using a **soft update**. This means that we will update the weights $w^-$ using the following rule:\n",
    " \n",
    "$$\n",
    "w^-\\leftarrow \\tau w + (1 - \\tau) w^-\n",
    "$$\n",
    "\n",
    "where $\\tau\\ll 1$. By using the soft update, we are ensuring that the target values, $y$, change slowly, which greatly improves the stability of our learning algorithm."
   ]
  },
  {
   "cell_type": "markdown",
   "metadata": {},
   "source": [
    "<a name=\"ex01\"></a>\n",
    "### Exercise 1\n",
    "\n",
    "In this exercise you will create the $Q$ and target $\\hat Q$ networks and set the optimizer. Remember that the Deep $Q$-Network (DQN) is a neural network that approximates the action-value function $Q(s,a)\\approx Q^*(s,a)$. It does this by learning how to map states to $Q$ values.\n",
    "\n",
    "To solve the Lunar Lander environment, we are going to employ a DQN with the following architecture:\n",
    "\n",
    "* An `Input` layer that takes `state_size` as input.\n",
    "\n",
    "* A `Dense` layer with `64` units and a `relu` activation function.\n",
    "\n",
    "* A `Dense` layer with `64` units and a `relu` activation function.\n",
    "\n",
    "* A `Dense` layer with `num_actions` units and a `linear` activation function. This will be the output layer of our network.\n",
    "\n",
    "\n",
    "In the cell below you should create the $Q$-Network and the target $\\hat Q$-Network using the model architecture described above. Remember that both the $Q$-Network and the target $\\hat Q$-Network have the same architecture.\n",
    "\n",
    "Lastly, you should set `Adam` as the optimizer with a learning rate equal to `ALPHA`. Recall that `ALPHA` was defined in the [Hyperparameters](#2) section. We should note that for this exercise you should use the already imported packages:\n",
    "```python\n",
    "from tensorflow.keras.layers import Dense, Input\n",
    "from tensorflow.keras.optimizers import Adam\n",
    "```"
   ]
  },
  {
   "cell_type": "code",
   "execution_count": 17,
   "metadata": {},
   "outputs": [],
   "source": [
    "# UNQ_C1\n",
    "# GRADED CELL\n",
    "\n",
    "# Create the Q-Network.\n",
    "q_network = Sequential([\n",
    "    ### START CODE HERE ### \n",
    "    Input(shape=state_size, name='input'),\n",
    "    Dense(units=64, activation='relu', name='dense1'),\n",
    "    Dense(units=64, activation='relu', name='dense2'),\n",
    "    Dense(units=num_actions, activation='linear', name='output')\n",
    "    ### END CODE HERE ### \n",
    "    ], name='q_net')\n",
    "\n",
    "# Create the target Q^-Network.\n",
    "target_q_network = Sequential([\n",
    "    ### START CODE HERE ### \n",
    "    Input(shape=state_size, name='input'),\n",
    "    Dense(units=64, activation='relu', name='dense1'),\n",
    "    Dense(units=64, activation='relu', name='dense2'),\n",
    "    Dense(units=num_actions, activation='linear', name='output')\n",
    "    ### END CODE HERE ###\n",
    "    ], name='q_hat_net')\n",
    "\n",
    "### START CODE HERE ### \n",
    "optimizer = Adam(learning_rate=ALPHA)\n",
    "### END CODE HERE ###"
   ]
  },
  {
   "cell_type": "code",
   "execution_count": 18,
   "metadata": {},
   "outputs": [
    {
     "name": "stdout",
     "output_type": "stream",
     "text": [
      "\u001b[92mAll tests passed!\n",
      "\u001b[92mAll tests passed!\n",
      "\u001b[92mAll tests passed!\n"
     ]
    }
   ],
   "source": [
    "# UNIT TEST\n",
    "from public_tests import *\n",
    "\n",
    "test_network(q_network)\n",
    "test_network(target_q_network)\n",
    "test_optimizer(optimizer, ALPHA) "
   ]
  },
  {
   "cell_type": "markdown",
   "metadata": {},
   "source": [
    "<details>\n",
    "  <summary><font size=\"3\" color=\"darkgreen\"><b>Click for hints</b></font></summary>\n",
    "    \n",
    "```python\n",
    "# Create the Q-Network.\n",
    "q_network = Sequential([\n",
    "    Input(shape=state_size),                      \n",
    "    Dense(units=64, activation='relu'),            \n",
    "    Dense(units=64, activation='relu'),            \n",
    "    Dense(units=num_actions, activation='linear'),\n",
    "    ])\n",
    "\n",
    "# Create the target Q^-Network.\n",
    "target_q_network = Sequential([\n",
    "    Input(shape=state_size),                       \n",
    "    Dense(units=64, activation='relu'),            \n",
    "    Dense(units=64, activation='relu'),            \n",
    "    Dense(units=num_actions, activation='linear'), \n",
    "    ])\n",
    "\n",
    "optimizer = Adam(learning_rate=ALPHA)                                  \n",
    "``` "
   ]
  },
  {
   "cell_type": "markdown",
   "metadata": {},
   "source": [
    "<a name=\"6.2\"></a>\n",
    "### 6.2 Experience Replay\n",
    "\n",
    "When an agent interacts with the environment, the states, actions, and rewards the agent experiences are sequential by nature. If the agent tries to learn from these consecutive experiences it can run into problems due to the strong correlations between them. To avoid this, we employ a technique known as **Experience Replay** to generate uncorrelated experiences for training our agent. Experience replay consists of storing the agent's experiences (i.e the states, actions, and rewards the agent receives) in a memory buffer and then sampling a random mini-batch of experiences from the buffer to do the learning. The experience tuples $(S_t, A_t, R_t, S_{t+1})$ will be added to the memory buffer at each time step as the agent interacts with the environment.\n",
    "\n",
    "For convenience, we will store the experiences as named tuples."
   ]
  },
  {
   "cell_type": "code",
   "execution_count": 19,
   "metadata": {},
   "outputs": [],
   "source": [
    "# Store experiences as named tuples.\n",
    "experience = namedtuple(\"Experience\", field_names=[\"state\", \"action\", \"reward\", \"next_state\", \"done\"])"
   ]
  },
  {
   "cell_type": "markdown",
   "metadata": {},
   "source": [
    "By using experience replay we avoid problematic correlations, oscillations and instabilities. In addition, experience replay also allows the agent to potentially use the same experience in multiple weight updates, which increases data efficiency."
   ]
  },
  {
   "cell_type": "markdown",
   "metadata": {},
   "source": [
    "<a name=\"7\"></a>\n",
    "## 7 - Deep Q-Learning Algorithm with Experience Replay\n",
    "\n",
    "Now that we know all the techniques that we are going to use, we can put them together to arrive at the Deep Q-Learning Algorithm With Experience Replay.\n",
    "<br>\n",
    "<br>\n",
    "<figure>\n",
    "  <img src = \"images/deep_q_algorithm.png\" width = 90% style = \"border: thin silver solid; padding: 0px\">\n",
    "      <figcaption style = \"text-align: center; font-style: italic\">Fig 3. Deep Q-Learning with Experience Replay.</figcaption>\n",
    "</figure>"
   ]
  },
  {
   "cell_type": "markdown",
   "metadata": {},
   "source": [
    "<a name=\"ex02\"></a>\n",
    "### Exercise 2\n",
    "\n",
    "In this exercise you will implement line ***12*** of the algorithm outlined in *Fig 3* above and you will also compute the loss between the $y$ targets and the $Q(s,a)$ values. In the cell below, complete the `compute_loss` function by setting the $y$ targets equal to:\n",
    "\n",
    "$$\n",
    "\\begin{equation}\n",
    "    y_j =\n",
    "    \\begin{cases}\n",
    "      R_j & \\text{if episode terminates at step  } j+1\\\\\n",
    "      R_j + \\gamma \\max_{a'}\\hat{Q}(s_{j+1},a') & \\text{otherwise}\\\\\n",
    "    \\end{cases}       \n",
    "\\end{equation}\n",
    "$$\n",
    "\n",
    "Here are a couple of things to note:\n",
    "\n",
    "* The `compute_loss` function takes in a mini-batch of experience tuples. This mini-batch of experience tuples is unpacked to extract the `states`, `actions`, `rewards`, `next_states`, and `done_vals`. You should keep in mind that these variables are *TensorFlow Tensors* whose size will depend on the mini-batch size. For example, if the mini-batch size is `64` then both `rewards` and `done_vals` will be TensorFlow Tensors with `64` elements.\n",
    "\n",
    "\n",
    "* Using `if/else` statements to set the $y$ targets will not work when the variables are tensors with many elements. However, notice that you can use the `done_vals` to implement the above in a single line of code. To do this, recall that the `done` variable is a Boolean variable that takes the value `True` when an episode terminates at step $j+1$ and it is `False` otherwise. Taking into account that a Boolean value of `True` has the numerical value of `1` and a Boolean value of `False` has the numerical value of `0`, you can use the factor `(1 - done_vals)` to implement the above in a single line of code. Here's a hint: notice that `(1 - done_vals)` has a value of `0` when `done_vals` is `True` and a value of `1` when `done_vals` is `False`. \n",
    "\n",
    "Lastly, compute the loss by calculating the Mean-Squared Error (`MSE`) between the `y_targets` and the `q_values`. To calculate the mean-squared error you should use the already imported package `MSE`:\n",
    "```python\n",
    "from tensorflow.keras.losses import MSE\n",
    "```"
   ]
  },
  {
   "cell_type": "code",
   "execution_count": 24,
   "metadata": {},
   "outputs": [],
   "source": [
    "# UNQ_C2\n",
    "# GRADED FUNCTION: calculate_loss\n",
    "\n",
    "def compute_loss(experiences, gamma, q_network, target_q_network):\n",
    "    \"\"\" \n",
    "    Calculates the loss.\n",
    "    \n",
    "    Args:\n",
    "      experiences: (tuple) tuple of [\"state\", \"action\", \"reward\", \"next_state\", \"done\"] namedtuples\n",
    "      gamma: (float) The discount factor.\n",
    "      q_network: (tf.keras.Sequential) Keras model for predicting the q_values\n",
    "      target_q_network: (tf.keras.Sequential) Keras model for predicting the targets\n",
    "          \n",
    "    Returns:\n",
    "      loss: (TensorFlow Tensor(shape=(0,), dtype=int32)) the Mean-Squared Error between\n",
    "            the y targets and the Q(s,a) values.\n",
    "    \"\"\"\n",
    "    \n",
    "    # Unpack the mini-batch of experience tuples.\n",
    "    states, actions, rewards, next_states, done_vals = experiences\n",
    "    \n",
    "    # Compute max Q^(s,a).\n",
    "    max_qsa = tf.reduce_max(target_q_network(next_states), axis=-1)\n",
    "    \n",
    "    # Set y = R if episode terminates, otherwise set y = R + γ max Q^(s,a).\n",
    "    ### START CODE HERE ### \n",
    "    y_targets = rewards + (1 - done_vals) * gamma * max_qsa\n",
    "    ### END CODE HERE ###\n",
    "    \n",
    "    # Get the q_values.\n",
    "    q_values = q_network(states)\n",
    "    q_values = tf.gather_nd(q_values, tf.stack([tf.range(q_values.shape[0]),\n",
    "                                                tf.cast(actions, tf.int32)], axis=1))\n",
    "        \n",
    "    # Compute the loss.\n",
    "    ### START CODE HERE ### \n",
    "    loss = MSE(y_targets, q_values) \n",
    "    ### END CODE HERE ### \n",
    "    \n",
    "    return loss"
   ]
  },
  {
   "cell_type": "code",
   "execution_count": 25,
   "metadata": {},
   "outputs": [
    {
     "name": "stdout",
     "output_type": "stream",
     "text": [
      "\u001b[92mAll tests passed!\n"
     ]
    }
   ],
   "source": [
    "# UNIT TEST    \n",
    "test_compute_loss(compute_loss)"
   ]
  },
  {
   "cell_type": "markdown",
   "metadata": {},
   "source": [
    "<details>\n",
    "  <summary><font size=\"3\" color=\"darkgreen\"><b>Click for hints</b></font></summary>\n",
    "    \n",
    "```python\n",
    "def compute_loss(experiences, gamma, q_network, target_q_network):\n",
    "    \"\"\" \n",
    "    Calculates the loss.\n",
    "    \n",
    "    Args:\n",
    "      experiences: (tuple) tuple of [\"state\", \"action\", \"reward\", \"next_state\", \"done\"] namedtuples\n",
    "      gamma: (float) The discount factor.\n",
    "      q_network: (tf.keras.Sequential) Keras model for predicting the q_values\n",
    "      target_q_network: (tf.keras.Sequential) Keras model for predicting the targets\n",
    "          \n",
    "    Returns:\n",
    "      loss: (TensorFlow Tensor(shape=(0,), dtype=int32)) the Mean-Squared Error between\n",
    "            the y targets and the Q(s,a) values.\n",
    "    \"\"\"\n",
    "\n",
    "    \n",
    "    # Unpack the mini-batch of experience tuples.\n",
    "    states, actions, rewards, next_states, done_vals = experiences\n",
    "    \n",
    "    # Compute max Q^(s,a).\n",
    "    max_qsa = tf.reduce_max(target_q_network(next_states), axis=-1)\n",
    "    \n",
    "    # Set y = R if episode terminates, otherwise set y = R + γ max Q^(s,a).\n",
    "    y_targets = rewards + (gamma * max_qsa * (1 - done_vals))\n",
    "    \n",
    "    # Get the q_values.\n",
    "    q_values = q_network(states)\n",
    "    q_values = tf.gather_nd(q_values, tf.stack([tf.range(q_values.shape[0]),\n",
    "                                                tf.cast(actions, tf.int32)], axis=1))\n",
    "    \n",
    "    # Calculate the loss.\n",
    "    loss = MSE(y_targets, q_values)\n",
    "    \n",
    "    return loss\n",
    "\n",
    "``` \n",
    "    "
   ]
  },
  {
   "cell_type": "markdown",
   "metadata": {},
   "source": [
    "<a name=\"8\"></a>\n",
    "## 8 - Update the Network Weights\n",
    "\n",
    "We will use the `agent_learn` function below to implement lines ***12 -14*** of the algorithm outlined in [Fig 3](#7). The `agent_learn` function will update the weights of the $Q$ and target $\\hat Q$ networks using a custom training loop. Because we are using a custom training loop we need to retrieve the gradients via a `tf.GradientTape` instance, and then call `optimizer.apply_gradients()` to update the weights of our $Q$-Network. Note that we are also using the `@tf.function` decorator to increase performance. Without this decorator our training will take twice as long. If you would like to know more about how to increase performance with `@tf.function` take a look at the [TensorFlow documentation](https://www.tensorflow.org/guide/function).\n",
    "\n",
    "The last line of this function updates the weights of the target $\\hat Q$-Network using a [soft update](#6.1). If you want to know how this is implemented in code we encourage you to take a look at the `utils.update_target_network` function in the `utils` module."
   ]
  },
  {
   "cell_type": "code",
   "execution_count": 26,
   "metadata": {},
   "outputs": [],
   "source": [
    "@tf.function\n",
    "def agent_learn(experiences, gamma):\n",
    "    \"\"\"\n",
    "    Updates the weights of the Q networks.\n",
    "    \n",
    "    Args:\n",
    "      experiences: (tuple) tuple of [\"state\", \"action\", \"reward\", \"next_state\", \"done\"] namedtuples\n",
    "      gamma: (float) The discount factor.\n",
    "    \n",
    "    \"\"\"\n",
    "    \n",
    "    # Calculate the loss.\n",
    "    with tf.GradientTape() as tape:\n",
    "        loss = compute_loss(experiences, gamma, q_network, target_q_network)\n",
    "\n",
    "    # Get the gradients of the loss with respect to the weights.\n",
    "    gradients = tape.gradient(loss, q_network.trainable_variables)\n",
    "    \n",
    "    # Update the weights of the q_network.\n",
    "    optimizer.apply_gradients(zip(gradients, q_network.trainable_variables))\n",
    "\n",
    "    # update the weights of target q_network.\n",
    "    utils.update_target_network(q_network, target_q_network)"
   ]
  },
  {
   "cell_type": "markdown",
   "metadata": {},
   "source": [
    "<a name=\"9\"></a>\n",
    "## 9 - Train the Agent\n",
    "\n",
    "We are now ready to train our agent to solve the Lunar Lander environment. In the cell below we will implement the algorithm in [Fig 3](#7) line by line (please note that we have included the same algorithm below for easy reference. This will prevent you from scrolling up and down the notebook):\n",
    "\n",
    "* **Line 1**: We initialize the `memory_buffer` with a capacity of $N =$ `MEMORY_SIZE`. Notice that we are using a `deque` as the data structure for our `memory_buffer`.\n",
    "\n",
    "\n",
    "* **Line 2**: We skip this line since we already initialized the `q_network` in [Exercise 1](#ex01).\n",
    "\n",
    "\n",
    "* **Line 3**: We initialize the `target_q_network` by setting its weights to be equal to those of the `q_network`.\n",
    "\n",
    "\n",
    "* **Line 4**: We start the outer loop. Notice that we have set $M =$ `num_episodes = 2000`. This number is reasonable because the agent should be able to solve the Lunar Lander environment in less than `2000` episodes using this notebook's default parameters.\n",
    "\n",
    "\n",
    "* **Line 5**: We use the `.reset()` method to reset the environment to the initial state and get the initial state.\n",
    "\n",
    "\n",
    "* **Line 6**: We start the inner loop. Notice that we have set $T =$ `max_num_timesteps = 1000`. This means that the episode will automatically terminate if the episode hasn't terminated after `1000` time steps.\n",
    "\n",
    "\n",
    "* **Line 7**: The agent observes the current `state` and chooses an `action` using an $\\epsilon$-greedy policy. Our agent starts out using a value of $\\epsilon =$ `epsilon = 1` which yields an $\\epsilon$-greedy policy that is equivalent to the equiprobable random policy. This means that at the beginning of our training, the agent is just going to take random actions regardless of the observed `state`. As training progresses we will decrease the value of $\\epsilon$ slowly towards a minimum value using a given $\\epsilon$-decay rate. We want this minimum value to be close to zero because a value of $\\epsilon = 0$ will yield an $\\epsilon$-greedy policy that is equivalent to the greedy policy. This means that towards the end of training, the agent will lean towards selecting the `action` that it believes (based on its past experiences) will maximize $Q(s,a)$. We will set the minimum $\\epsilon$ value to be `0.01` and not exactly 0 because we always want to keep a little bit of exploration during training. If you want to know how this is implemented in code we encourage you to take a look at the `utils.get_action` function in the `utils` module.\n",
    "\n",
    "\n",
    "* **Line 8**: We use the `.step()` method to take the given `action` in the environment and get the `reward` and the `next_state`. \n",
    "\n",
    "\n",
    "* **Line 9**: We store the `experience(state, action, reward, next_state, done)` tuple in our `memory_buffer`. Notice that we also store the `done` variable so that we can keep track of when an episode terminates. This allowed us to set the $y$ targets in [Exercise 2](#ex02).\n",
    "\n",
    "\n",
    "* **Line 10**: We check if the conditions are met to perform a learning update. We do this by using our custom `utils.check_update_conditions` function. This function checks if $C =$ `NUM_STEPS_FOR_UPDATE = 4` time steps have occured and if our `memory_buffer` has enough experience tuples to fill a mini-batch. For example, if the mini-batch size is `64`, then our `memory_buffer` should have more than `64` experience tuples in order to pass the latter condition. If the conditions are met, then the `utils.check_update_conditions` function will return a value of `True`, otherwise it will return a value of `False`.\n",
    "\n",
    "\n",
    "* **Lines 11 - 14**: If the `update` variable is `True` then we perform a learning update. The learning update consists of sampling a random mini-batch of experience tuples from our `memory_buffer`, setting the $y$ targets, performing gradient descent, and updating the weights of the networks. We will use the `agent_learn` function we defined in [Section 8](#8) to perform the latter 3.\n",
    "\n",
    "\n",
    "* **Line 15**: At the end of each iteration of the inner loop we set `next_state` as our new `state` so that the loop can start again from this new state. In addition, we check if the episode has reached a terminal state (i.e we check if `done = True`). If a terminal state has been reached, then we break out of the inner loop.\n",
    "\n",
    "\n",
    "* **Line 16**: At the end of each iteration of the outer loop we update the value of $\\epsilon$, and check if the environment has been solved. We consider that the environment has been solved if the agent receives an average of `200` points in the last `100` episodes. If the environment has not been solved we continue the outer loop and start a new episode.\n",
    "\n",
    "Finally, we wanted to note that we have included some extra variables to keep track of the total number of points the agent received in each episode. This will help us determine if the agent has solved the environment and it will also allow us to see how our agent performed during training. We also use the `time` module to measure how long the training takes. \n",
    "\n",
    "<br>\n",
    "<br>\n",
    "<figure>\n",
    "  <img src = \"images/deep_q_algorithm.png\" width = 90% style = \"border: thin silver solid; padding: 0px\">\n",
    "      <figcaption style = \"text-align: center; font-style: italic\">Fig 4. Deep Q-Learning with Experience Replay.</figcaption>\n",
    "</figure>\n",
    "<br>\n",
    "\n",
    "**Note:** With this notebook's default parameters, the following cell takes between 10 to 15 minutes to run. "
   ]
  },
  {
   "cell_type": "code",
   "execution_count": 27,
   "metadata": {},
   "outputs": [
    {
     "name": "stdout",
     "output_type": "stream",
     "text": [
      "Episode 100 | Total point average of the last 100 episodes: -153.69\n",
      "Episode 200 | Total point average of the last 100 episodes: -90.016\n",
      "Episode 300 | Total point average of the last 100 episodes: -59.37\n",
      "Episode 400 | Total point average of the last 100 episodes: -15.30\n",
      "Episode 500 | Total point average of the last 100 episodes: 62.048\n",
      "Episode 590 | Total point average of the last 100 episodes: 202.40\n",
      "\n",
      "Environment solved in 590 episodes!\n",
      "\n",
      "Total Runtime: 806.05 s (13.43 min)\n"
     ]
    }
   ],
   "source": [
    "start = time.time()\n",
    "\n",
    "num_episodes = 2000\n",
    "max_num_timesteps = 1000\n",
    "\n",
    "total_point_history = []\n",
    "\n",
    "num_p_av = 100    # number of total points to use for averaging.\n",
    "epsilon = 1.0     # initial ε value for ε-greedy policy.\n",
    "\n",
    "# Create a memory buffer D with capacity N.\n",
    "memory_buffer = deque(maxlen=MEMORY_SIZE)\n",
    "\n",
    "# Set the target network weights equal to the Q-Network weights.\n",
    "target_q_network.set_weights(q_network.get_weights())\n",
    "\n",
    "for i in range(num_episodes):\n",
    "    \n",
    "    # Reset the environment to the initial state and get the initial state.\n",
    "    state = env.reset()\n",
    "    total_points = 0\n",
    "    \n",
    "    for t in range(max_num_timesteps):\n",
    "        \n",
    "        # From the current state S choose an action A using an ε-greedy policy.\n",
    "        state_qn = np.expand_dims(state, axis=0)  # state needs to be the right shape for the q_network.\n",
    "        q_values = q_network(state_qn)\n",
    "        action = utils.get_action(q_values, epsilon)\n",
    "        \n",
    "        # Take action A and receive reward R and the next state S'.\n",
    "        next_state, reward, done, _ = env.step(action)\n",
    "        \n",
    "        # Store experience tuple (S,A,R,S') in the memory buffer.\n",
    "        # We store the done variable as well for convenience.\n",
    "        memory_buffer.append(experience(state, action, reward, next_state, done))\n",
    "        \n",
    "        # Only update the network every NUM_STEPS_FOR_UPDATE time steps.\n",
    "        update = utils.check_update_conditions(t, NUM_STEPS_FOR_UPDATE, memory_buffer)\n",
    "        \n",
    "        if update:\n",
    "            # Sample random mini-batch of experience tuples (S,A,R,S') from D.\n",
    "            experiences = utils.get_experiences(memory_buffer)\n",
    "            \n",
    "            # Set the y targets, perform a gradient descent step,\n",
    "            # and update the network weights.\n",
    "            agent_learn(experiences, GAMMA)\n",
    "        \n",
    "        state = next_state.copy()\n",
    "        total_points += reward\n",
    "        \n",
    "        if done:\n",
    "            break\n",
    "            \n",
    "    total_point_history.append(total_points)\n",
    "    av_latest_points = np.mean(total_point_history[-num_p_av:])\n",
    "    \n",
    "    # Update the ε value.\n",
    "    epsilon = utils.get_new_eps(epsilon)\n",
    "\n",
    "    print(f\"\\rEpisode {i+1} | Total point average of the last {num_p_av} episodes: {av_latest_points:.2f}\", end=\"\")\n",
    "\n",
    "    if (i+1) % num_p_av == 0:\n",
    "        print(f\"\\rEpisode {i+1} | Total point average of the last {num_p_av} episodes: {av_latest_points:.2f}\")\n",
    "\n",
    "    # We will consider that the environment is solved if we get an\n",
    "    # average of 200 points in the last 100 episodes.\n",
    "    if av_latest_points >= 200.0:\n",
    "        print(f\"\\n\\nEnvironment solved in {i+1} episodes!\")\n",
    "        q_network.save('lunar_lander_model.h5')\n",
    "        break\n",
    "        \n",
    "tot_time = time.time() - start\n",
    "\n",
    "print(f\"\\nTotal Runtime: {tot_time:.2f} s ({(tot_time/60):.2f} min)\")"
   ]
  },
  {
   "cell_type": "markdown",
   "metadata": {},
   "source": [
    "We can plot the total point history along with the moving average to see how our agent improved during training. If you want to know about the different plotting options available in the `utils.plot_history` function we encourage you to take a look at the `utils` module."
   ]
  },
  {
   "cell_type": "code",
   "execution_count": 28,
   "metadata": {
    "id": "E_EUXxurfe8m",
    "scrolled": false
   },
   "outputs": [
    {
     "data": {
      "image/png": "[encoded data removed]",
      "text/plain": [
       "<Figure size 720x504 with 1 Axes>"
      ]
     },
     "metadata": {},
     "output_type": "display_data"
    }
   ],
   "source": [
    "# Plot the total point history along with the moving average.\n",
    "utils.plot_history(total_point_history)"
   ]
  },
  {
   "cell_type": "markdown",
   "metadata": {
    "id": "c_xwgaX5MnYt"
   },
   "source": [
    "<a name=\"10\"></a>\n",
    "## 10 - See the Trained Agent In Action\n",
    "\n",
    "Now that we have trained our agent, we can see it in action. We will use the `utils.create_video` function to create a video of our agent interacting with the environment using the trained $Q$-Network. The `utils.create_video` function uses the `imageio` library to create the video. This library produces some warnings that can be distracting, so, to suppress these warnings we run the code below."
   ]
  },
  {
   "cell_type": "code",
   "execution_count": 29,
   "metadata": {},
   "outputs": [],
   "source": [
    "# Suppress warnings from imageio.\n",
    "import logging\n",
    "logging.getLogger().setLevel(logging.ERROR)"
   ]
  },
  {
   "cell_type": "markdown",
   "metadata": {},
   "source": [
    "In the cell below we create a video of our agent interacting with the Lunar Lander environment using the trained `q_network`. The video is saved to the `videos` folder with the given `filename`. We use the `utils.embed_mp4` function to embed the video in the Jupyter Notebook so that we can see it here directly without having to download it.\n",
    "\n",
    "We should note that since the lunar lander starts with a random initial force applied to its center of mass, every time you run the cell below you will see a different video. If the agent was trained properly, it should be able to land the lunar lander in the landing pad every time, regardless of the initial force applied to its center of mass."
   ]
  },
  {
   "cell_type": "code",
   "execution_count": 34,
   "metadata": {
    "id": "3Ttb_zLeJKiG"
   },
   "outputs": [
    {
     "data": {
      "text/html": [
       "\n",
       "    <video width=\"840\" height=\"480\" controls>\n",
       "    <source src=\"data:video/mp4;base64,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\" type=\"video/mp4\">\n",
       "    Your browser does not support the video tag.\n",
       "    </video>"
      ],
      "text/plain": [
       "<IPython.core.display.HTML object>"
      ]
     },
     "execution_count": 34,
     "metadata": {},
     "output_type": "execute_result"
    }
   ],
   "source": [
    "filename = \"./videos/lunar_lander.mp4\"\n",
    "\n",
    "utils.create_video(filename, env, q_network)\n",
    "utils.embed_mp4(filename)"
   ]
  },
  {
   "cell_type": "markdown",
   "metadata": {},
   "source": [
    "<a name=\"11\"></a>\n",
    "## 11 - Congratulations!\n",
    "\n",
    "You have successfully used Deep Q-Learning with Experience Replay to train an agent to land a lunar lander safely on a landing pad on the surface of the moon. Congratulations!"
   ]
  },
  {
   "cell_type": "markdown",
   "metadata": {},
   "source": [
    "<a name=\"12\"></a>\n",
    "## 12 - References\n",
    "\n",
    "If you would like to learn more about Deep Q-Learning, we recommend you check out the following papers.\n",
    "\n",
    "\n",
    "* Mnih, V., Kavukcuoglu, K., Silver, D. et al. Human-level control through deep reinforcement learning. Nature 518, 529–533 (2015).\n",
    "\n",
    "\n",
    "* Lillicrap, T. P., Hunt, J. J., Pritzel, A., et al. Continuous Control with Deep Reinforcement Learning. ICLR (2016).\n",
    "\n",
    "\n",
    "* Mnih, V., Kavukcuoglu, K., Silver, D. et al. Playing Atari with Deep Reinforcement Learning. arXiv e-prints.  arXiv:1312.5602 (2013)."
   ]
  },
  {
   "cell_type": "code",
   "execution_count": null,
   "metadata": {},
   "outputs": [],
   "source": []
  }
 ],
 "metadata": {
  "accelerator": "GPU",
  "colab": {
   "collapsed_sections": [],
   "name": "TensorFlow - Lunar Lander.ipynb",
   "provenance": []
  },
  "kernelspec": {
   "display_name": "Python 3",
   "language": "python",
   "name": "python3"
  },
  "language_info": {
   "codemirror_mode": {
    "name": "ipython",
    "version": 3
   },
   "file_extension": ".py",
   "mimetype": "text/x-python",
   "name": "python",
   "nbconvert_exporter": "python",
   "pygments_lexer": "ipython3",
   "version": "3.7.6"
  }
 },
 "nbformat": 4,
 "nbformat_minor": 1
}
